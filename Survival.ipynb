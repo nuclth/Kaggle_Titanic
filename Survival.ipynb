{
 "cells": [
  {
   "cell_type": "markdown",
   "metadata": {
    "toc": "true"
   },
   "source": [
    " # Table of Contents\n",
    "<div class=\"toc\" style=\"margin-top: 1em;\"><ul class=\"toc-item\" id=\"toc-level0\"><li><span><a href=\"http://localhost:8888/notebooks/Survival.ipynb#Survival-on-the-Titanic\" data-toc-modified-id=\"Survival-on-the-Titanic-1\"><span class=\"toc-item-num\">1&nbsp;&nbsp;</span>Survival on the Titanic</a></span><ul class=\"toc-item\"><li><span><a href=\"http://localhost:8888/notebooks/Survival.ipynb#Executive-Summary\" data-toc-modified-id=\"Executive-Summary-1.1\"><span class=\"toc-item-num\">1.1&nbsp;&nbsp;</span>Executive Summary</a></span></li><li><span><a href=\"http://localhost:8888/notebooks/Survival.ipynb#Data-Acquistion-and-Interpretation\" data-toc-modified-id=\"Data-Acquistion-and-Interpretation-1.2\"><span class=\"toc-item-num\">1.2&nbsp;&nbsp;</span>Data Acquistion and Interpretation</a></span><ul class=\"toc-item\"><li><span><a href=\"http://localhost:8888/notebooks/Survival.ipynb#Preliminary-Analysis-and-Dataset-Characterization\" data-toc-modified-id=\"Preliminary-Analysis-and-Dataset-Characterization-1.2.1\"><span class=\"toc-item-num\">1.2.1&nbsp;&nbsp;</span>Preliminary Analysis and Dataset Characterization</a></span></li><li><span><a href=\"http://localhost:8888/notebooks/Survival.ipynb#Dataset-Int/Float-Distribution\" data-toc-modified-id=\"Dataset-Int/Float-Distribution-1.2.2\"><span class=\"toc-item-num\">1.2.2&nbsp;&nbsp;</span>Dataset Int/Float Distribution</a></span></li></ul></li><li><span><a href=\"http://localhost:8888/notebooks/Survival.ipynb#Feature-Engineering\" data-toc-modified-id=\"Feature-Engineering-1.3\"><span class=\"toc-item-num\">1.3&nbsp;&nbsp;</span>Feature Engineering</a></span><ul class=\"toc-item\"><li><span><a href=\"http://localhost:8888/notebooks/Survival.ipynb#Sex\" data-toc-modified-id=\"Sex-1.3.1\"><span class=\"toc-item-num\">1.3.1&nbsp;&nbsp;</span>Sex</a></span></li><li><span><a href=\"http://localhost:8888/notebooks/Survival.ipynb#Embarked\" data-toc-modified-id=\"Embarked-1.3.2\"><span class=\"toc-item-num\">1.3.2&nbsp;&nbsp;</span>Embarked</a></span></li><li><span><a href=\"http://localhost:8888/notebooks/Survival.ipynb#Passenger-Class\" data-toc-modified-id=\"Passenger-Class-1.3.3\"><span class=\"toc-item-num\">1.3.3&nbsp;&nbsp;</span>Passenger Class</a></span></li><li><span><a href=\"http://localhost:8888/notebooks/Survival.ipynb#Age\" data-toc-modified-id=\"Age-1.3.4\"><span class=\"toc-item-num\">1.3.4&nbsp;&nbsp;</span>Age</a></span></li><li><span><a href=\"http://localhost:8888/notebooks/Survival.ipynb#Family\" data-toc-modified-id=\"Family-1.3.5\"><span class=\"toc-item-num\">1.3.5&nbsp;&nbsp;</span>Family</a></span></li><li><span><a href=\"http://localhost:8888/notebooks/Survival.ipynb#Name\" data-toc-modified-id=\"Name-1.3.6\"><span class=\"toc-item-num\">1.3.6&nbsp;&nbsp;</span>Name</a></span></li><li><span><a href=\"http://localhost:8888/notebooks/Survival.ipynb#Fare\" data-toc-modified-id=\"Fare-1.3.7\"><span class=\"toc-item-num\">1.3.7&nbsp;&nbsp;</span>Fare</a></span></li></ul></li><li><span><a href=\"http://localhost:8888/notebooks/Survival.ipynb#Dropping-Elements\" data-toc-modified-id=\"Dropping-Elements-1.4\"><span class=\"toc-item-num\">1.4&nbsp;&nbsp;</span>Dropping Elements</a></span></li><li><span><a href=\"http://localhost:8888/notebooks/Survival.ipynb#Model-Building\" data-toc-modified-id=\"Model-Building-1.5\"><span class=\"toc-item-num\">1.5&nbsp;&nbsp;</span>Model Building</a></span><ul class=\"toc-item\"><li><span><a href=\"http://localhost:8888/notebooks/Survival.ipynb#Quick-Correlations\" data-toc-modified-id=\"Quick-Correlations-1.5.1\"><span class=\"toc-item-num\">1.5.1&nbsp;&nbsp;</span>Quick Correlations</a></span></li><li><span><a href=\"http://localhost:8888/notebooks/Survival.ipynb#Validation-from-Training-Data\" data-toc-modified-id=\"Validation-from-Training-Data-1.5.2\"><span class=\"toc-item-num\">1.5.2&nbsp;&nbsp;</span>Validation from Training Data</a></span></li><li><span><a href=\"http://localhost:8888/notebooks/Survival.ipynb#Logistic-Regression\" data-toc-modified-id=\"Logistic-Regression-1.5.3\"><span class=\"toc-item-num\">1.5.3&nbsp;&nbsp;</span>Logistic Regression</a></span></li><li><span><a href=\"http://localhost:8888/notebooks/Survival.ipynb#Random-Forest\" data-toc-modified-id=\"Random-Forest-1.5.4\"><span class=\"toc-item-num\">1.5.4&nbsp;&nbsp;</span>Random Forest</a></span></li><li><span><a href=\"http://localhost:8888/notebooks/Survival.ipynb#Support-Vector-Machines\" data-toc-modified-id=\"Support-Vector-Machines-1.5.5\"><span class=\"toc-item-num\">1.5.5&nbsp;&nbsp;</span>Support Vector Machines</a></span></li><li><span><a href=\"http://localhost:8888/notebooks/Survival.ipynb#Gradient-Boosting-Classifier\" data-toc-modified-id=\"Gradient-Boosting-Classifier-1.5.6\"><span class=\"toc-item-num\">1.5.6&nbsp;&nbsp;</span>Gradient Boosting Classifier</a></span></li><li><span><a href=\"http://localhost:8888/notebooks/Survival.ipynb#K-nearest-Neighbors\" data-toc-modified-id=\"K-nearest-Neighbors-1.5.7\"><span class=\"toc-item-num\">1.5.7&nbsp;&nbsp;</span>K-nearest Neighbors</a></span></li><li><span><a href=\"http://localhost:8888/notebooks/Survival.ipynb#Gaussian-Naive-Bayes\" data-toc-modified-id=\"Gaussian-Naive-Bayes-1.5.8\"><span class=\"toc-item-num\">1.5.8&nbsp;&nbsp;</span>Gaussian Naive Bayes</a></span></li></ul></li><li><span><a href=\"http://localhost:8888/notebooks/Survival.ipynb#Full-Training\" data-toc-modified-id=\"Full-Training-1.6\"><span class=\"toc-item-num\">1.6&nbsp;&nbsp;</span>Full Training</a></span></li><li><span><a href=\"http://localhost:8888/notebooks/Survival.ipynb#Data-Output\" data-toc-modified-id=\"Data-Output-1.7\"><span class=\"toc-item-num\">1.7&nbsp;&nbsp;</span>Data Output</a></span></li></ul></li><li><span><a href=\"http://localhost:8888/notebooks/Survival.ipynb#Appendix\" data-toc-modified-id=\"Appendix-2\"><span class=\"toc-item-num\">2&nbsp;&nbsp;</span>Appendix</a></span><ul class=\"toc-item\"><li><span><a href=\"http://localhost:8888/notebooks/Survival.ipynb#Types-of-Variables\" data-toc-modified-id=\"Types-of-Variables-2.1\"><span class=\"toc-item-num\">2.1&nbsp;&nbsp;</span>Types of Variables</a></span><ul class=\"toc-item\"><li><span><a href=\"http://localhost:8888/notebooks/Survival.ipynb#Categorical-Variables\" data-toc-modified-id=\"Categorical-Variables-2.1.1\"><span class=\"toc-item-num\">2.1.1&nbsp;&nbsp;</span>Categorical Variables</a></span></li><li><span><a href=\"http://localhost:8888/notebooks/Survival.ipynb#Numerical-Variables\" data-toc-modified-id=\"Numerical-Variables-2.1.2\"><span class=\"toc-item-num\">2.1.2&nbsp;&nbsp;</span>Numerical Variables</a></span></li></ul></li><li><span><a href=\"http://localhost:8888/notebooks/Survival.ipynb#Resources\" data-toc-modified-id=\"Resources-2.2\"><span class=\"toc-item-num\">2.2&nbsp;&nbsp;</span>Resources</a></span></li></ul></li></ul></div>"
   ]
  },
  {
   "cell_type": "markdown",
   "metadata": {},
   "source": [
    "# Survival on the Titanic"
   ]
  },
  {
   "cell_type": "markdown",
   "metadata": {},
   "source": [
    "This is a notebook to analyze and predict survival rates for passengers on board the Titanic. As stated on [kaggle.com](https://www.kaggle.com/c/titanic):\n",
    "\n",
    ">On April 15, 1912, during her maiden voyage, the Titanic sank after colliding with an iceberg, killing **1502** out of **2224** (**$\\sim$ 68%**) passengers and crew. Although there was some element of luck involved in surviving the sinking, some groups of people were more likely to survive than others, such as women, children, and the upper-class.\n",
    "\n",
    "> In this challenge, we ask you to complete the analysis of what sorts of people were likely to survive. In particular, we ask you to apply the tools of machine learning to predict which passengers survived the tragedy.\n",
    "\n",
    ">It is your job to predict if a passenger survived the sinking of the Titanic or not.\n",
    "For each `PassengerId` in the test set, you must predict a **0** or **1** value for the `Survived` variable.\n",
    "\n",
    ">Your score is the percentage of passengers you correctly predict.\n",
    "\n",
    "Both a training dataset (used to train the machine learning algorithim) and a test dataset (used to test the algorithm) have been [provided](https://www.kaggle.com/c/titanic/data). The following resources were instrumental in developing and implementing this notebook:\n",
    "\n",
    "* [Megan Risdal's Notebook in R](https://www.kaggle.com/mrisdal/exploring-survival-on-the-titanic)\n",
    "\n",
    "* [Helge Bjorland's Notebook](https://www.kaggle.com/helgejo/an-interactive-data-science-tutorial)\n",
    "\n",
    "* [Manav Sehgal's Notebook](https://www.kaggle.com/startupsci/titanic-data-science-solutions)\n",
    "\n",
    "* [Omar El Gabry's Notebook](https://www.kaggle.com/omarelgabry/a-journey-through-titanic)\n",
    "\n",
    "* [Arthur Tok's Notebook](https://www.kaggle.com/arthurtok/introduction-to-ensembling-stacking-in-python)\n",
    "\n",
    "* [Sina's Notebook](https://www.kaggle.com/sinakhorami/titanic-best-working-classifier)\n",
    "\n",
    "**Last edited**: 2017-10-11 17:19:12  \n",
    "\n",
    "## Executive Summary"
   ]
  },
  {
   "cell_type": "markdown",
   "metadata": {},
   "source": [
    "Stuff goes here once I'm finished."
   ]
  },
  {
   "cell_type": "markdown",
   "metadata": {},
   "source": [
    "## Data Acquistion and Interpretation"
   ]
  },
  {
   "cell_type": "markdown",
   "metadata": {},
   "source": [
    "To start, we first import the necessary libraries for our analysis as well as define visualization functions:"
   ]
  },
  {
   "cell_type": "code",
   "execution_count": 1,
   "metadata": {
    "ExecuteTime": {
     "end_time": "2017-10-08T01:35:19.902420Z",
     "start_time": "2017-10-08T01:35:19.359365Z"
    },
    "code_folding": [],
    "collapsed": true,
    "run_control": {
     "marked": false
    }
   },
   "outputs": [],
   "source": [
    "# first import relevant libraries\n",
    "\n",
    "# data management and mathematical functions\n",
    "import pandas as pd\n",
    "import numpy as np\n",
    "import random as rnd\n",
    "\n",
    "# visualization tools\n",
    "import seaborn as sns\n",
    "import matplotlib.pyplot as plt\n",
    "\n",
    "# machine learning algorithims\n",
    "from sklearn.tree import DecisionTreeClassifier\n",
    "from sklearn.linear_model import LogisticRegression\n",
    "from sklearn.svm import SVC, LinearSVC\n",
    "from sklearn.ensemble import RandomForestClassifier, GradientBoostingClassifier\n",
    "from sklearn.naive_bayes import GaussianNB\n",
    "from sklearn.neighbors import KNeighborsClassifier\n",
    "\n",
    "# now define different plotting functions\n",
    "\n",
    "# function to plot a near continuous variable in our dataset against another variable\n",
    "def plot_distribution( df , var , target, **kwargs):\n",
    "    row = kwargs.get('row', None)\n",
    "    col = kwargs.get('col', None)\n",
    "    facet = sns.FacetGrid( df , hue=target , aspect=4, row = row, col = col)\n",
    "    facet.map( sns.kdeplot , var , shade= True )\n",
    "    facet.set( xlim=( 0 , df[ var ].max() ))\n",
    "    facet.add_legend()\n",
    "\n",
    "# function to plot a categorical variable in our dataset against another variable\n",
    "def plot_categories( df , cat , target, **kwargs ):\n",
    "    order = kwargs.get('order', None)\n",
    "    facet = sns.FacetGrid( df )\n",
    "    facet.map( sns.barplot , cat , target, order = order )\n",
    "\n",
    "# function to create a correlation plot of our features\n",
    "def plot_correlation_map (df):\n",
    "    corr = df.corr()\n",
    "    fig = plt.subplots( figsize = ( 10 , 10 ) )\n",
    "    cscheme = sns.diverging_palette( 220 , 10 , as_cmap = True )\n",
    "    sns.heatmap(corr, cmap = cscheme, square=True, cbar_kws={ 'shrink' : .9 },\n",
    "    annot = True, annot_kws = { 'fontsize' : 12 } )"
   ]
  },
  {
   "cell_type": "markdown",
   "metadata": {},
   "source": [
    "Now we import the data for our problem and look at the first few entries for the training data. The training data is used to train our model which is then applied to the test data."
   ]
  },
  {
   "cell_type": "code",
   "execution_count": 2,
   "metadata": {
    "ExecuteTime": {
     "end_time": "2017-10-08T01:35:19.913596Z",
     "start_time": "2017-10-08T01:35:19.903614Z"
    },
    "collapsed": true
   },
   "outputs": [],
   "source": [
    "# read in training and testing data\n",
    "train_df = pd.read_csv(\"./data/train.csv\")\n",
    "test_df  = pd.read_csv(\"./data/test.csv\")\n",
    "\n",
    "# combine train/test into a new dataframe\n",
    "full_df = train_df.append (test_df, ignore_index=True)"
   ]
  },
  {
   "cell_type": "markdown",
   "metadata": {},
   "source": [
    "### Preliminary Analysis and Dataset Characterization\n",
    "<a id=\"Intro\"></a>"
   ]
  },
  {
   "cell_type": "markdown",
   "metadata": {},
   "source": [
    "Now let's take a quick detour and explore different ways to get information from our dataset. This section can be collapsed or [skipped](#analysis_qc) for more knowledgeable readers.\n",
    "\n",
    "The first thing we need to do is analyze this dataset and see what it contains. We output the shape (number of rows and columns), the variable names (columns), and the first four entries in the dataset below:"
   ]
  },
  {
   "cell_type": "code",
   "execution_count": 3,
   "metadata": {
    "ExecuteTime": {
     "end_time": "2017-10-08T01:35:20.090606Z",
     "start_time": "2017-10-08T01:35:19.914817Z"
    }
   },
   "outputs": [
    {
     "name": "stdout",
     "output_type": "stream",
     "text": [
      "(891, 12)\n",
      "['PassengerId' 'Survived' 'Pclass' 'Name' 'Sex' 'Age' 'SibSp' 'Parch'\n",
      " 'Ticket' 'Fare' 'Cabin' 'Embarked']\n"
     ]
    },
    {
     "data": {
      "text/html": [
       "<div>\n",
       "<style>\n",
       "    .dataframe thead tr:only-child th {\n",
       "        text-align: right;\n",
       "    }\n",
       "\n",
       "    .dataframe thead th {\n",
       "        text-align: left;\n",
       "    }\n",
       "\n",
       "    .dataframe tbody tr th {\n",
       "        vertical-align: top;\n",
       "    }\n",
       "</style>\n",
       "<table border=\"1\" class=\"dataframe\">\n",
       "  <thead>\n",
       "    <tr style=\"text-align: right;\">\n",
       "      <th></th>\n",
       "      <th>PassengerId</th>\n",
       "      <th>Survived</th>\n",
       "      <th>Pclass</th>\n",
       "      <th>Name</th>\n",
       "      <th>Sex</th>\n",
       "      <th>Age</th>\n",
       "      <th>SibSp</th>\n",
       "      <th>Parch</th>\n",
       "      <th>Ticket</th>\n",
       "      <th>Fare</th>\n",
       "      <th>Cabin</th>\n",
       "      <th>Embarked</th>\n",
       "    </tr>\n",
       "  </thead>\n",
       "  <tbody>\n",
       "    <tr>\n",
       "      <th>0</th>\n",
       "      <td>1</td>\n",
       "      <td>0</td>\n",
       "      <td>3</td>\n",
       "      <td>Braund, Mr. Owen Harris</td>\n",
       "      <td>male</td>\n",
       "      <td>22.0</td>\n",
       "      <td>1</td>\n",
       "      <td>0</td>\n",
       "      <td>A/5 21171</td>\n",
       "      <td>7.2500</td>\n",
       "      <td>NaN</td>\n",
       "      <td>S</td>\n",
       "    </tr>\n",
       "    <tr>\n",
       "      <th>1</th>\n",
       "      <td>2</td>\n",
       "      <td>1</td>\n",
       "      <td>1</td>\n",
       "      <td>Cumings, Mrs. John Bradley (Florence Briggs Th...</td>\n",
       "      <td>female</td>\n",
       "      <td>38.0</td>\n",
       "      <td>1</td>\n",
       "      <td>0</td>\n",
       "      <td>PC 17599</td>\n",
       "      <td>71.2833</td>\n",
       "      <td>C85</td>\n",
       "      <td>C</td>\n",
       "    </tr>\n",
       "    <tr>\n",
       "      <th>2</th>\n",
       "      <td>3</td>\n",
       "      <td>1</td>\n",
       "      <td>3</td>\n",
       "      <td>Heikkinen, Miss. Laina</td>\n",
       "      <td>female</td>\n",
       "      <td>26.0</td>\n",
       "      <td>0</td>\n",
       "      <td>0</td>\n",
       "      <td>STON/O2. 3101282</td>\n",
       "      <td>7.9250</td>\n",
       "      <td>NaN</td>\n",
       "      <td>S</td>\n",
       "    </tr>\n",
       "    <tr>\n",
       "      <th>3</th>\n",
       "      <td>4</td>\n",
       "      <td>1</td>\n",
       "      <td>1</td>\n",
       "      <td>Futrelle, Mrs. Jacques Heath (Lily May Peel)</td>\n",
       "      <td>female</td>\n",
       "      <td>35.0</td>\n",
       "      <td>1</td>\n",
       "      <td>0</td>\n",
       "      <td>113803</td>\n",
       "      <td>53.1000</td>\n",
       "      <td>C123</td>\n",
       "      <td>S</td>\n",
       "    </tr>\n",
       "  </tbody>\n",
       "</table>\n",
       "</div>"
      ],
      "text/plain": [
       "   PassengerId  Survived  Pclass  \\\n",
       "0            1         0       3   \n",
       "1            2         1       1   \n",
       "2            3         1       3   \n",
       "3            4         1       1   \n",
       "\n",
       "                                                Name     Sex   Age  SibSp  \\\n",
       "0                            Braund, Mr. Owen Harris    male  22.0      1   \n",
       "1  Cumings, Mrs. John Bradley (Florence Briggs Th...  female  38.0      1   \n",
       "2                             Heikkinen, Miss. Laina  female  26.0      0   \n",
       "3       Futrelle, Mrs. Jacques Heath (Lily May Peel)  female  35.0      1   \n",
       "\n",
       "   Parch            Ticket     Fare Cabin Embarked  \n",
       "0      0         A/5 21171   7.2500   NaN        S  \n",
       "1      0          PC 17599  71.2833   C85        C  \n",
       "2      0  STON/O2. 3101282   7.9250   NaN        S  \n",
       "3      0            113803  53.1000  C123        S  "
      ]
     },
     "execution_count": 3,
     "metadata": {},
     "output_type": "execute_result"
    }
   ],
   "source": [
    "print (train_df.shape)\n",
    "\n",
    "print (train_df.columns.values)\n",
    "\n",
    "train_df.head(4)"
   ]
  },
  {
   "cell_type": "markdown",
   "metadata": {},
   "source": [
    "To get the actual structure, we use the `.info()` command:"
   ]
  },
  {
   "cell_type": "code",
   "execution_count": 4,
   "metadata": {
    "ExecuteTime": {
     "end_time": "2017-10-08T01:35:20.367367Z",
     "start_time": "2017-10-08T01:35:20.231775Z"
    }
   },
   "outputs": [
    {
     "name": "stdout",
     "output_type": "stream",
     "text": [
      "<class 'pandas.core.frame.DataFrame'>\n",
      "RangeIndex: 891 entries, 0 to 890\n",
      "Data columns (total 12 columns):\n",
      "PassengerId    891 non-null int64\n",
      "Survived       891 non-null int64\n",
      "Pclass         891 non-null int64\n",
      "Name           891 non-null object\n",
      "Sex            891 non-null object\n",
      "Age            714 non-null float64\n",
      "SibSp          891 non-null int64\n",
      "Parch          891 non-null int64\n",
      "Ticket         891 non-null object\n",
      "Fare           891 non-null float64\n",
      "Cabin          204 non-null object\n",
      "Embarked       889 non-null object\n",
      "dtypes: float64(2), int64(5), object(5)\n",
      "memory usage: 83.6+ KB\n"
     ]
    }
   ],
   "source": [
    "train_df.info()"
   ]
  },
  {
   "cell_type": "markdown",
   "metadata": {},
   "source": [
    "So we see that our training set has **891** different entires equivalent to **$\\sim$40%** of all passengers on board.\n",
    "Each entry has **12** different variables: \n",
    "\n",
    "* 2 float types\n",
    "* 5 int types\n",
    "* 5 string types (objects)\n",
    "\n",
    "Note also that we have missing data for the `Age`, `Cabin`, and `Embarked` variables. What do these different variables mean? Let's break it down:\n",
    "\n",
    "Variable Name  | Meaning\n",
    ":-------------- | :-------------\n",
    "PassengerId    | unique numeric identifier\n",
    "Survived       | whether the passenger survived or not\n",
    "Pclass         | ticket class\n",
    "Name           | passenger name\n",
    "Sex            | passenger sex\n",
    "Age            | passenger age\n",
    "SibSp          | number of siblings/spouses aboard the ship\n",
    "Parch          | number of parents/children aboard the ship\n",
    "Ticket         | ticket number\n",
    "Fare           | passenger fare in USD\n",
    "Cabin          | cabin number\n",
    "Embarked       | port of embarkation"
   ]
  },
  {
   "cell_type": "markdown",
   "metadata": {},
   "source": [
    "We then classify these variables as categorical or numerical. For a review of categorical and numerical variables, see [Appendix 2.1](#app_vartypes).\n",
    "\n",
    "**Categorical Variables**\n",
    "\n",
    "* **Nominal**: Survived, Sex, and Embarked\n",
    "* **Ordinal**: Pclass\n",
    "\n",
    "    * Survived is 0 for No and 1 for Yes\n",
    "    * Sex is male or female\n",
    "    * Embarked is the port of Embarkation: C = Cherbourg, Q = Queenstown, S = Southampton\n",
    "    * pclass takes the values 1 = 1st class, 2 = 2nd class, 3 = 3rd class\n",
    "\n",
    "**Numerical Variables**\n",
    "\n",
    "* **Continous**: Age, Fare. \n",
    "* **Discrete**: SibSp, Parch.\n"
   ]
  },
  {
   "cell_type": "markdown",
   "metadata": {},
   "source": [
    "### Dataset Int/Float Distribution"
   ]
  },
  {
   "cell_type": "markdown",
   "metadata": {},
   "source": [
    "We can use the `.describe()` command to get a quick analysis of the int/float variables in our dataset. By default this command only includes variables described by a number (*note that this also includes categorical variables!*). We make this default explicit with the option `include = [np.number]`. If we wanted to include everything at once, we would use `include = 'all'`."
   ]
  },
  {
   "cell_type": "code",
   "execution_count": 5,
   "metadata": {
    "ExecuteTime": {
     "end_time": "2017-10-08T01:35:20.519622Z",
     "start_time": "2017-10-08T01:35:20.368572Z"
    }
   },
   "outputs": [
    {
     "data": {
      "text/html": [
       "<div>\n",
       "<style>\n",
       "    .dataframe thead tr:only-child th {\n",
       "        text-align: right;\n",
       "    }\n",
       "\n",
       "    .dataframe thead th {\n",
       "        text-align: left;\n",
       "    }\n",
       "\n",
       "    .dataframe tbody tr th {\n",
       "        vertical-align: top;\n",
       "    }\n",
       "</style>\n",
       "<table border=\"1\" class=\"dataframe\">\n",
       "  <thead>\n",
       "    <tr style=\"text-align: right;\">\n",
       "      <th></th>\n",
       "      <th>PassengerId</th>\n",
       "      <th>Survived</th>\n",
       "      <th>Pclass</th>\n",
       "      <th>Age</th>\n",
       "      <th>SibSp</th>\n",
       "      <th>Parch</th>\n",
       "      <th>Fare</th>\n",
       "    </tr>\n",
       "  </thead>\n",
       "  <tbody>\n",
       "    <tr>\n",
       "      <th>count</th>\n",
       "      <td>891.000000</td>\n",
       "      <td>891.000000</td>\n",
       "      <td>891.000000</td>\n",
       "      <td>714.000000</td>\n",
       "      <td>891.000000</td>\n",
       "      <td>891.000000</td>\n",
       "      <td>891.000000</td>\n",
       "    </tr>\n",
       "    <tr>\n",
       "      <th>mean</th>\n",
       "      <td>446.000000</td>\n",
       "      <td>0.383838</td>\n",
       "      <td>2.308642</td>\n",
       "      <td>29.699118</td>\n",
       "      <td>0.523008</td>\n",
       "      <td>0.381594</td>\n",
       "      <td>32.204208</td>\n",
       "    </tr>\n",
       "    <tr>\n",
       "      <th>std</th>\n",
       "      <td>257.353842</td>\n",
       "      <td>0.486592</td>\n",
       "      <td>0.836071</td>\n",
       "      <td>14.526497</td>\n",
       "      <td>1.102743</td>\n",
       "      <td>0.806057</td>\n",
       "      <td>49.693429</td>\n",
       "    </tr>\n",
       "    <tr>\n",
       "      <th>min</th>\n",
       "      <td>1.000000</td>\n",
       "      <td>0.000000</td>\n",
       "      <td>1.000000</td>\n",
       "      <td>0.420000</td>\n",
       "      <td>0.000000</td>\n",
       "      <td>0.000000</td>\n",
       "      <td>0.000000</td>\n",
       "    </tr>\n",
       "    <tr>\n",
       "      <th>10%</th>\n",
       "      <td>90.000000</td>\n",
       "      <td>0.000000</td>\n",
       "      <td>1.000000</td>\n",
       "      <td>14.000000</td>\n",
       "      <td>0.000000</td>\n",
       "      <td>0.000000</td>\n",
       "      <td>7.550000</td>\n",
       "    </tr>\n",
       "    <tr>\n",
       "      <th>20%</th>\n",
       "      <td>179.000000</td>\n",
       "      <td>0.000000</td>\n",
       "      <td>1.000000</td>\n",
       "      <td>19.000000</td>\n",
       "      <td>0.000000</td>\n",
       "      <td>0.000000</td>\n",
       "      <td>7.854200</td>\n",
       "    </tr>\n",
       "    <tr>\n",
       "      <th>30%</th>\n",
       "      <td>268.000000</td>\n",
       "      <td>0.000000</td>\n",
       "      <td>2.000000</td>\n",
       "      <td>22.000000</td>\n",
       "      <td>0.000000</td>\n",
       "      <td>0.000000</td>\n",
       "      <td>8.050000</td>\n",
       "    </tr>\n",
       "    <tr>\n",
       "      <th>40%</th>\n",
       "      <td>357.000000</td>\n",
       "      <td>0.000000</td>\n",
       "      <td>2.000000</td>\n",
       "      <td>25.000000</td>\n",
       "      <td>0.000000</td>\n",
       "      <td>0.000000</td>\n",
       "      <td>10.500000</td>\n",
       "    </tr>\n",
       "    <tr>\n",
       "      <th>50%</th>\n",
       "      <td>446.000000</td>\n",
       "      <td>0.000000</td>\n",
       "      <td>3.000000</td>\n",
       "      <td>28.000000</td>\n",
       "      <td>0.000000</td>\n",
       "      <td>0.000000</td>\n",
       "      <td>14.454200</td>\n",
       "    </tr>\n",
       "    <tr>\n",
       "      <th>60%</th>\n",
       "      <td>535.000000</td>\n",
       "      <td>0.000000</td>\n",
       "      <td>3.000000</td>\n",
       "      <td>31.800000</td>\n",
       "      <td>0.000000</td>\n",
       "      <td>0.000000</td>\n",
       "      <td>21.679200</td>\n",
       "    </tr>\n",
       "    <tr>\n",
       "      <th>70%</th>\n",
       "      <td>624.000000</td>\n",
       "      <td>1.000000</td>\n",
       "      <td>3.000000</td>\n",
       "      <td>36.000000</td>\n",
       "      <td>1.000000</td>\n",
       "      <td>0.000000</td>\n",
       "      <td>27.000000</td>\n",
       "    </tr>\n",
       "    <tr>\n",
       "      <th>80%</th>\n",
       "      <td>713.000000</td>\n",
       "      <td>1.000000</td>\n",
       "      <td>3.000000</td>\n",
       "      <td>41.000000</td>\n",
       "      <td>1.000000</td>\n",
       "      <td>1.000000</td>\n",
       "      <td>39.687500</td>\n",
       "    </tr>\n",
       "    <tr>\n",
       "      <th>90%</th>\n",
       "      <td>802.000000</td>\n",
       "      <td>1.000000</td>\n",
       "      <td>3.000000</td>\n",
       "      <td>50.000000</td>\n",
       "      <td>1.000000</td>\n",
       "      <td>2.000000</td>\n",
       "      <td>77.958300</td>\n",
       "    </tr>\n",
       "    <tr>\n",
       "      <th>99%</th>\n",
       "      <td>882.100000</td>\n",
       "      <td>1.000000</td>\n",
       "      <td>3.000000</td>\n",
       "      <td>65.870000</td>\n",
       "      <td>5.000000</td>\n",
       "      <td>4.000000</td>\n",
       "      <td>249.006220</td>\n",
       "    </tr>\n",
       "    <tr>\n",
       "      <th>max</th>\n",
       "      <td>891.000000</td>\n",
       "      <td>1.000000</td>\n",
       "      <td>3.000000</td>\n",
       "      <td>80.000000</td>\n",
       "      <td>8.000000</td>\n",
       "      <td>6.000000</td>\n",
       "      <td>512.329200</td>\n",
       "    </tr>\n",
       "  </tbody>\n",
       "</table>\n",
       "</div>"
      ],
      "text/plain": [
       "       PassengerId    Survived      Pclass         Age       SibSp  \\\n",
       "count   891.000000  891.000000  891.000000  714.000000  891.000000   \n",
       "mean    446.000000    0.383838    2.308642   29.699118    0.523008   \n",
       "std     257.353842    0.486592    0.836071   14.526497    1.102743   \n",
       "min       1.000000    0.000000    1.000000    0.420000    0.000000   \n",
       "10%      90.000000    0.000000    1.000000   14.000000    0.000000   \n",
       "20%     179.000000    0.000000    1.000000   19.000000    0.000000   \n",
       "30%     268.000000    0.000000    2.000000   22.000000    0.000000   \n",
       "40%     357.000000    0.000000    2.000000   25.000000    0.000000   \n",
       "50%     446.000000    0.000000    3.000000   28.000000    0.000000   \n",
       "60%     535.000000    0.000000    3.000000   31.800000    0.000000   \n",
       "70%     624.000000    1.000000    3.000000   36.000000    1.000000   \n",
       "80%     713.000000    1.000000    3.000000   41.000000    1.000000   \n",
       "90%     802.000000    1.000000    3.000000   50.000000    1.000000   \n",
       "99%     882.100000    1.000000    3.000000   65.870000    5.000000   \n",
       "max     891.000000    1.000000    3.000000   80.000000    8.000000   \n",
       "\n",
       "            Parch        Fare  \n",
       "count  891.000000  891.000000  \n",
       "mean     0.381594   32.204208  \n",
       "std      0.806057   49.693429  \n",
       "min      0.000000    0.000000  \n",
       "10%      0.000000    7.550000  \n",
       "20%      0.000000    7.854200  \n",
       "30%      0.000000    8.050000  \n",
       "40%      0.000000   10.500000  \n",
       "50%      0.000000   14.454200  \n",
       "60%      0.000000   21.679200  \n",
       "70%      0.000000   27.000000  \n",
       "80%      1.000000   39.687500  \n",
       "90%      2.000000   77.958300  \n",
       "99%      4.000000  249.006220  \n",
       "max      6.000000  512.329200  "
      ]
     },
     "execution_count": 5,
     "metadata": {},
     "output_type": "execute_result"
    }
   ],
   "source": [
    "train_df.describe(percentiles=[0.1, 0.2, 0.3, 0.4, 0.5, 0.6, 0.7, 0.8, 0.9, 0.99], include = [np.number])"
   ]
  },
  {
   "cell_type": "markdown",
   "metadata": {},
   "source": [
    "There are several salient points to note from the data in the training set:\n",
    "\n",
    "* *Representative survival rate*: The survival rate is **38%** (c.f. total survival rate of **32%**)\n",
    "<br><br>\n",
    "* *Most fly coach*: About **20%** of passengers were in 1st class with **50%** of people in 3rd class\n",
    "<br><br>\n",
    "* *Mostly young*: Around **20%** of passengers were **19** or younger with **90%** being younger than **50**\n",
    "<br><br>\n",
    "* *Some family ties*: Around **30%** of passengers had a sibling or spouse on board\n",
    "<br><br>\n",
    "* *Few dependents*: More than **70%** of passengers had no parents or children aboard \n",
    "<br><br>\n",
    "* *Low fares*: The average fare was **\\$32** and **90%** of all fares were under **\\$78**"
   ]
  },
  {
   "cell_type": "markdown",
   "metadata": {},
   "source": [
    "To include the rest of the variables (the objects), we modify our `.describe()` command to include all the objects, i.e., `np.object`. We could also have used `include = ['O']`."
   ]
  },
  {
   "cell_type": "code",
   "execution_count": 6,
   "metadata": {
    "ExecuteTime": {
     "end_time": "2017-10-08T01:35:20.649827Z",
     "start_time": "2017-10-08T01:35:20.520798Z"
    }
   },
   "outputs": [
    {
     "data": {
      "text/html": [
       "<div>\n",
       "<style>\n",
       "    .dataframe thead tr:only-child th {\n",
       "        text-align: right;\n",
       "    }\n",
       "\n",
       "    .dataframe thead th {\n",
       "        text-align: left;\n",
       "    }\n",
       "\n",
       "    .dataframe tbody tr th {\n",
       "        vertical-align: top;\n",
       "    }\n",
       "</style>\n",
       "<table border=\"1\" class=\"dataframe\">\n",
       "  <thead>\n",
       "    <tr style=\"text-align: right;\">\n",
       "      <th></th>\n",
       "      <th>Name</th>\n",
       "      <th>Sex</th>\n",
       "      <th>Ticket</th>\n",
       "      <th>Cabin</th>\n",
       "      <th>Embarked</th>\n",
       "    </tr>\n",
       "  </thead>\n",
       "  <tbody>\n",
       "    <tr>\n",
       "      <th>count</th>\n",
       "      <td>891</td>\n",
       "      <td>891</td>\n",
       "      <td>891</td>\n",
       "      <td>204</td>\n",
       "      <td>889</td>\n",
       "    </tr>\n",
       "    <tr>\n",
       "      <th>unique</th>\n",
       "      <td>891</td>\n",
       "      <td>2</td>\n",
       "      <td>681</td>\n",
       "      <td>147</td>\n",
       "      <td>3</td>\n",
       "    </tr>\n",
       "    <tr>\n",
       "      <th>top</th>\n",
       "      <td>Rice, Mrs. William (Margaret Norton)</td>\n",
       "      <td>male</td>\n",
       "      <td>1601</td>\n",
       "      <td>C23 C25 C27</td>\n",
       "      <td>S</td>\n",
       "    </tr>\n",
       "    <tr>\n",
       "      <th>freq</th>\n",
       "      <td>1</td>\n",
       "      <td>577</td>\n",
       "      <td>7</td>\n",
       "      <td>4</td>\n",
       "      <td>644</td>\n",
       "    </tr>\n",
       "  </tbody>\n",
       "</table>\n",
       "</div>"
      ],
      "text/plain": [
       "                                        Name   Sex Ticket        Cabin  \\\n",
       "count                                    891   891    891          204   \n",
       "unique                                   891     2    681          147   \n",
       "top     Rice, Mrs. William (Margaret Norton)  male   1601  C23 C25 C27   \n",
       "freq                                       1   577      7            4   \n",
       "\n",
       "       Embarked  \n",
       "count       889  \n",
       "unique        3  \n",
       "top           S  \n",
       "freq        644  "
      ]
     },
     "execution_count": 6,
     "metadata": {},
     "output_type": "execute_result"
    }
   ],
   "source": [
    "train_df.describe(include = [np.object])"
   ]
  },
  {
   "cell_type": "code",
   "execution_count": 7,
   "metadata": {},
   "outputs": [
    {
     "name": "stdout",
     "output_type": "stream",
     "text": [
      "<class 'pandas.core.frame.DataFrame'>\n",
      "RangeIndex: 1309 entries, 0 to 1308\n",
      "Data columns (total 12 columns):\n",
      "Age            1046 non-null float64\n",
      "Cabin          295 non-null object\n",
      "Embarked       1307 non-null object\n",
      "Fare           1308 non-null float64\n",
      "Name           1309 non-null object\n",
      "Parch          1309 non-null int64\n",
      "PassengerId    1309 non-null int64\n",
      "Pclass         1309 non-null int64\n",
      "Sex            1309 non-null object\n",
      "SibSp          1309 non-null int64\n",
      "Survived       891 non-null float64\n",
      "Ticket         1309 non-null object\n",
      "dtypes: float64(3), int64(4), object(5)\n",
      "memory usage: 122.8+ KB\n"
     ]
    }
   ],
   "source": [
    "full_df.info()"
   ]
  },
  {
   "cell_type": "markdown",
   "metadata": {},
   "source": [
    "From the full dataset, we see that we are missing data for `Age`, `Cabin`, `Embarked`, and `Fare`. If we want to use these as variables, we need to impute (complete) the data associated with these variables. \n",
    "\n",
    "We now proceed to discuss each of these variables in turn and which ones we want to use."
   ]
  },
  {
   "cell_type": "code",
   "execution_count": 8,
   "metadata": {
    "ExecuteTime": {
     "end_time": "2017-10-08T01:35:20.769496Z",
     "start_time": "2017-10-08T01:35:20.651371Z"
    }
   },
   "outputs": [
    {
     "name": "stdout",
     "output_type": "stream",
     "text": [
      "<class 'pandas.core.frame.DataFrame'>\n",
      "RangeIndex: 1309 entries, 0 to 1308\n",
      "Data columns (total 12 columns):\n",
      "Age            1046 non-null float64\n",
      "Cabin          295 non-null object\n",
      "Embarked       1307 non-null object\n",
      "Fare           1308 non-null float64\n",
      "Name           1309 non-null object\n",
      "Parch          1309 non-null int64\n",
      "PassengerId    1309 non-null int64\n",
      "Pclass         1309 non-null int64\n",
      "Sex            1309 non-null object\n",
      "SibSp          1309 non-null int64\n",
      "Survived       891 non-null float64\n",
      "Ticket         1309 non-null object\n",
      "dtypes: float64(3), int64(4), object(5)\n",
      "memory usage: 122.8+ KB\n"
     ]
    }
   ],
   "source": [
    "full_df.info()"
   ]
  },
  {
   "cell_type": "markdown",
   "metadata": {},
   "source": [
    "## Feature Engineering"
   ]
  },
  {
   "cell_type": "markdown",
   "metadata": {},
   "source": [
    "The following section examines each of our variables in turn to extract what we believe to be predictive features for the suvival rate. For each variable, we examine its distribution, impute (complete) it if necessary, and map it into a numerical variable if it isn't already. "
   ]
  },
  {
   "cell_type": "markdown",
   "metadata": {},
   "source": [
    "### Sex"
   ]
  },
  {
   "cell_type": "markdown",
   "metadata": {},
   "source": [
    "As mentioned in the problem introduction, we expect sex to correlate with survival. First, we see that there were more men than women aboard the ship in the full dataset."
   ]
  },
  {
   "cell_type": "code",
   "execution_count": 9,
   "metadata": {
    "ExecuteTime": {
     "end_time": "2017-10-08T01:35:21.024166Z",
     "start_time": "2017-10-08T01:35:20.771056Z"
    }
   },
   "outputs": [
    {
     "data": {
      "image/png": "[encoded data removed]",
      "text/plain": [
       "<matplotlib.figure.Figure at 0x235cba21898>"
      ]
     },
     "metadata": {},
     "output_type": "display_data"
    }
   ],
   "source": [
    "sns.countplot(x='Sex', data = full_df)\n",
    "plt.show()"
   ]
  },
  {
   "cell_type": "markdown",
   "metadata": {},
   "source": [
    "But women were far more likely to survive compared to men (data from the training set)."
   ]
  },
  {
   "cell_type": "code",
   "execution_count": 10,
   "metadata": {
    "ExecuteTime": {
     "end_time": "2017-10-08T01:35:21.180676Z",
     "start_time": "2017-10-08T01:35:21.025678Z"
    }
   },
   "outputs": [
    {
     "data": {
      "image/png": "[encoded data removed]",
      "text/plain": [
       "<matplotlib.figure.Figure at 0x235cba217f0>"
      ]
     },
     "metadata": {},
     "output_type": "display_data"
    }
   ],
   "source": [
    "plot_categories(train_df , cat = 'Sex' , target = 'Survived', order = train_df.Sex.unique())\n",
    "plt.show()"
   ]
  },
  {
   "cell_type": "code",
   "execution_count": 11,
   "metadata": {
    "ExecuteTime": {
     "end_time": "2017-10-08T01:35:21.586620Z",
     "start_time": "2017-10-08T01:35:21.182148Z"
    }
   },
   "outputs": [
    {
     "data": {
      "image/png": "[encoded data removed]",
      "text/plain": [
       "<matplotlib.figure.Figure at 0x235cc075780>"
      ]
     },
     "metadata": {},
     "output_type": "display_data"
    }
   ],
   "source": [
    "plot_distribution (train_df, var = 'Age' , target = 'Survived', row = 'Sex')\n",
    "plt.show()"
   ]
  },
  {
   "cell_type": "markdown",
   "metadata": {},
   "source": [
    "No data on sex was missing from the full dataset,"
   ]
  },
  {
   "cell_type": "code",
   "execution_count": 12,
   "metadata": {
    "ExecuteTime": {
     "end_time": "2017-10-08T01:35:21.592316Z",
     "start_time": "2017-10-08T01:35:21.588145Z"
    }
   },
   "outputs": [
    {
     "data": {
      "text/plain": [
       "0"
      ]
     },
     "execution_count": 12,
     "metadata": {},
     "output_type": "execute_result"
    }
   ],
   "source": [
    "full_df.Sex.isnull().sum()"
   ]
  },
  {
   "cell_type": "markdown",
   "metadata": {},
   "source": [
    "so we end by preparing our `Sex` variable for use in analytics by converting female/male to a binary 1/0 classification using a dictionary:"
   ]
  },
  {
   "cell_type": "code",
   "execution_count": 13,
   "metadata": {
    "ExecuteTime": {
     "end_time": "2017-10-08T01:35:21.728284Z",
     "start_time": "2017-10-08T01:35:21.594206Z"
    },
    "collapsed": true
   },
   "outputs": [],
   "source": [
    "# replace sex string with a 0 or 1\n",
    "gender_dict = {'female' : 1 , 'male' : 0}\n",
    "full_df.Sex = full_df.Sex.map (gender_dict).astype(int)"
   ]
  },
  {
   "cell_type": "markdown",
   "metadata": {},
   "source": [
    "### Embarked"
   ]
  },
  {
   "cell_type": "markdown",
   "metadata": {},
   "source": [
    "Most of the passengers in our dataset got on the ship at port S,"
   ]
  },
  {
   "cell_type": "code",
   "execution_count": 14,
   "metadata": {
    "ExecuteTime": {
     "end_time": "2017-10-08T01:35:22.167644Z",
     "start_time": "2017-10-08T01:35:21.729719Z"
    }
   },
   "outputs": [
    {
     "data": {
      "image/png": "[encoded data removed]",
      "text/plain": [
       "<matplotlib.figure.Figure at 0x235cc090a90>"
      ]
     },
     "metadata": {},
     "output_type": "display_data"
    }
   ],
   "source": [
    "sns.countplot (x='Embarked', data=full_df)\n",
    "plt.show()"
   ]
  },
  {
   "cell_type": "markdown",
   "metadata": {},
   "source": [
    "and there may be a survial advantage to passengers who embarked from port C instead of S or Q (though this may arise from correlation with other variables in the dataset)."
   ]
  },
  {
   "cell_type": "code",
   "execution_count": 15,
   "metadata": {
    "ExecuteTime": {
     "end_time": "2017-10-08T01:35:22.394511Z",
     "start_time": "2017-10-08T01:35:22.169249Z"
    }
   },
   "outputs": [
    {
     "data": {
      "image/png": "[encoded data removed]",
      "text/plain": [
       "<matplotlib.figure.Figure at 0x235cc3ae048>"
      ]
     },
     "metadata": {},
     "output_type": "display_data"
    }
   ],
   "source": [
    "plot_categories(train_df , cat = 'Embarked' , target = 'Survived', order=train_df.Embarked.unique() )\n",
    "plt.show()"
   ]
  },
  {
   "cell_type": "markdown",
   "metadata": {},
   "source": [
    "Only two data points are missing from our full dataset,"
   ]
  },
  {
   "cell_type": "code",
   "execution_count": 16,
   "metadata": {
    "ExecuteTime": {
     "end_time": "2017-10-08T01:35:22.421985Z",
     "start_time": "2017-10-08T01:35:22.396044Z"
    }
   },
   "outputs": [
    {
     "data": {
      "text/plain": [
       "2"
      ]
     },
     "execution_count": 16,
     "metadata": {},
     "output_type": "execute_result"
    }
   ],
   "source": [
    "full_df.Embarked.isnull().sum()"
   ]
  },
  {
   "cell_type": "markdown",
   "metadata": {},
   "source": [
    "so we impute the two missing values with the most common port S and create a numerical dictionary for the `Embarked` variable:"
   ]
  },
  {
   "cell_type": "code",
   "execution_count": 17,
   "metadata": {
    "ExecuteTime": {
     "end_time": "2017-10-08T01:35:22.556487Z",
     "start_time": "2017-10-08T01:35:22.423461Z"
    },
    "collapsed": true
   },
   "outputs": [],
   "source": [
    "# impute missing values with port 'S'\n",
    "full_df.Embarked = full_df.Embarked.fillna('S')\n",
    "\n",
    "# replace embarked label with a 1 or 2 or 3\n",
    "embarked_dict = {'S' : 1 , 'C' : 2, 'Q' : 3}\n",
    "full_df.Embarked = full_df.Embarked.map (embarked_dict).astype(int)"
   ]
  },
  {
   "cell_type": "markdown",
   "metadata": {},
   "source": [
    "### Passenger Class"
   ]
  },
  {
   "cell_type": "markdown",
   "metadata": {},
   "source": [
    "Most of the passengers were in class 3, with the remainder evenly split between classes 1 and 2,"
   ]
  },
  {
   "cell_type": "code",
   "execution_count": 18,
   "metadata": {
    "ExecuteTime": {
     "end_time": "2017-10-08T01:35:22.912645Z",
     "start_time": "2017-10-08T01:35:22.701085Z"
    }
   },
   "outputs": [
    {
     "data": {
      "image/png": "[encoded data removed]",
      "text/plain": [
       "<matplotlib.figure.Figure at 0x235cc3cb048>"
      ]
     },
     "metadata": {},
     "output_type": "display_data"
    }
   ],
   "source": [
    "sns.countplot (x='Pclass', data=full_df)\n",
    "plt.show()"
   ]
  },
  {
   "cell_type": "markdown",
   "metadata": {},
   "source": [
    "But there is a clear bias to survival for passengers in higher classes,"
   ]
  },
  {
   "cell_type": "code",
   "execution_count": 19,
   "metadata": {
    "ExecuteTime": {
     "end_time": "2017-10-08T01:35:23.104047Z",
     "start_time": "2017-10-08T01:35:22.914305Z"
    }
   },
   "outputs": [
    {
     "data": {
      "image/png": "[encoded data removed]",
      "text/plain": [
       "<matplotlib.figure.Figure at 0x235cc4e2630>"
      ]
     },
     "metadata": {},
     "output_type": "display_data"
    }
   ],
   "source": [
    "plot_categories( train_df , cat = 'Pclass' , target = 'Survived' )\n",
    "plt.show()"
   ]
  },
  {
   "cell_type": "markdown",
   "metadata": {},
   "source": [
    "No class data is missing so there is nothing to impute."
   ]
  },
  {
   "cell_type": "code",
   "execution_count": 20,
   "metadata": {
    "ExecuteTime": {
     "end_time": "2017-10-08T01:35:23.109592Z",
     "start_time": "2017-10-08T01:35:23.105621Z"
    }
   },
   "outputs": [
    {
     "data": {
      "text/plain": [
       "0"
      ]
     },
     "execution_count": 20,
     "metadata": {},
     "output_type": "execute_result"
    }
   ],
   "source": [
    "full_df.Pclass.isnull().sum()"
   ]
  },
  {
   "cell_type": "code",
   "execution_count": 21,
   "metadata": {
    "ExecuteTime": {
     "end_time": "2017-10-08T01:35:23.694676Z",
     "start_time": "2017-10-08T01:35:23.111009Z"
    }
   },
   "outputs": [
    {
     "data": {
      "image/png": "[encoded data removed]",
      "text/plain": [
       "<matplotlib.figure.Figure at 0x235cc615cf8>"
      ]
     },
     "metadata": {},
     "output_type": "display_data"
    }
   ],
   "source": [
    "plot_distribution (train_df, var = 'Fare' , target = 'Survived' , row = 'Pclass' )\n",
    "plt.show()"
   ]
  },
  {
   "cell_type": "markdown",
   "metadata": {},
   "source": [
    "### Age"
   ]
  },
  {
   "cell_type": "markdown",
   "metadata": {},
   "source": [
    "As can be seen, there is a sizable age range but most of the passengers were younger ranging from late teens to early 40s. "
   ]
  },
  {
   "cell_type": "code",
   "execution_count": 22,
   "metadata": {
    "ExecuteTime": {
     "end_time": "2017-10-08T01:35:23.828405Z",
     "start_time": "2017-10-08T01:35:23.696200Z"
    }
   },
   "outputs": [
    {
     "data": {
      "image/png": "[encoded data removed]",
      "text/plain": [
       "<matplotlib.figure.Figure at 0x235cc5846d8>"
      ]
     },
     "metadata": {},
     "output_type": "display_data"
    }
   ],
   "source": [
    "sns.distplot(full_df.Age.dropna(), hist=True)\n",
    "plt.show()"
   ]
  },
  {
   "cell_type": "markdown",
   "metadata": {},
   "source": [
    "Now we encounter our first pressing need to impute data as we are missing age data on 263 people or about 20% of the total passengers in our dataset."
   ]
  },
  {
   "cell_type": "code",
   "execution_count": 23,
   "metadata": {
    "ExecuteTime": {
     "end_time": "2017-10-08T01:35:23.844327Z",
     "start_time": "2017-10-08T01:35:23.830366Z"
    }
   },
   "outputs": [
    {
     "data": {
      "text/plain": [
       "263"
      ]
     },
     "execution_count": 23,
     "metadata": {},
     "output_type": "execute_result"
    }
   ],
   "source": [
    "full_df.Age.isnull().sum()"
   ]
  },
  {
   "cell_type": "code",
   "execution_count": 24,
   "metadata": {
    "ExecuteTime": {
     "end_time": "2017-10-08T01:35:24.221688Z",
     "start_time": "2017-10-08T01:35:23.845783Z"
    }
   },
   "outputs": [
    {
     "data": {
      "image/png": "[encoded data removed]",
      "text/plain": [
       "<matplotlib.figure.Figure at 0x235cc5c4b70>"
      ]
     },
     "metadata": {},
     "output_type": "display_data"
    }
   ],
   "source": [
    "plot_distribution (train_df, var='Age', target='Survived')\n",
    "plt.show()"
   ]
  },
  {
   "cell_type": "markdown",
   "metadata": {},
   "source": [
    "To impute this data, we plan to do something very simple: identify the mean age and it's standard deviation, then sample from a uniform distribution with mean + std to mean - std. Obviously this is somewhat crude and can be improved."
   ]
  },
  {
   "cell_type": "code",
   "execution_count": 25,
   "metadata": {
    "collapsed": true
   },
   "outputs": [],
   "source": [
    "age_mean = full_df.Age.mean()\n",
    "age_std  = full_df.Age.std()"
   ]
  },
  {
   "cell_type": "code",
   "execution_count": 26,
   "metadata": {
    "ExecuteTime": {
     "end_time": "2017-10-08T01:35:24.228870Z",
     "start_time": "2017-10-08T01:35:24.223427Z"
    }
   },
   "outputs": [
    {
     "name": "stdout",
     "output_type": "stream",
     "text": [
      "Mean age is 29.881138\n",
      "Age standard deviation 14.413493\n"
     ]
    }
   ],
   "source": [
    "print ('Mean age is %f' % age_mean)\n",
    "print ('Age standard deviation %f' % age_std)"
   ]
  },
  {
   "cell_type": "code",
   "execution_count": 27,
   "metadata": {
    "collapsed": true
   },
   "outputs": [],
   "source": [
    "age_null = full_df.Age.isnull().sum()"
   ]
  },
  {
   "cell_type": "code",
   "execution_count": 28,
   "metadata": {
    "collapsed": true
   },
   "outputs": [],
   "source": [
    "missing_ages = np.random.uniform (low = age_mean - age_std, high = age_mean + age_std, size = age_null)"
   ]
  },
  {
   "cell_type": "code",
   "execution_count": 29,
   "metadata": {
    "ExecuteTime": {
     "end_time": "2017-10-08T01:35:24.387363Z",
     "start_time": "2017-10-08T01:35:24.230307Z"
    }
   },
   "outputs": [
    {
     "name": "stderr",
     "output_type": "stream",
     "text": [
      "C:\\Users\\Alex\\Anaconda3\\lib\\site-packages\\ipykernel_launcher.py:1: SettingWithCopyWarning: \n",
      "A value is trying to be set on a copy of a slice from a DataFrame\n",
      "\n",
      "See the caveats in the documentation: http://pandas.pydata.org/pandas-docs/stable/indexing.html#indexing-view-versus-copy\n",
      "  \"\"\"Entry point for launching an IPython kernel.\n"
     ]
    }
   ],
   "source": [
    "full_df.Age[np.isnan(full_df.Age)] = missing_ages"
   ]
  },
  {
   "cell_type": "markdown",
   "metadata": {},
   "source": [
    "We plot the new histogram of ages and see that it is at least qualitatively similar to our age distribution before imputation."
   ]
  },
  {
   "cell_type": "code",
   "execution_count": 30,
   "metadata": {},
   "outputs": [
    {
     "data": {
      "image/png": "[encoded data removed]",
      "text/plain": [
       "<matplotlib.figure.Figure at 0x235cbcefeb8>"
      ]
     },
     "metadata": {},
     "output_type": "display_data"
    }
   ],
   "source": [
    "sns.distplot (full_df.Age, hist=True)\n",
    "plt.show()"
   ]
  },
  {
   "cell_type": "markdown",
   "metadata": {},
   "source": [
    "### Family"
   ]
  },
  {
   "cell_type": "code",
   "execution_count": 31,
   "metadata": {
    "ExecuteTime": {
     "end_time": "2017-10-08T01:35:24.818383Z",
     "start_time": "2017-10-08T01:35:24.388645Z"
    }
   },
   "outputs": [
    {
     "data": {
      "image/png": "[encoded data removed]",
      "text/plain": [
       "<matplotlib.figure.Figure at 0x235cc607080>"
      ]
     },
     "metadata": {},
     "output_type": "display_data"
    }
   ],
   "source": [
    "fig, (axis1,axis2) = plt.subplots(1,2,figsize=(10,5))\n",
    "\n",
    "fig1 = sns.countplot(x='Parch', data = full_df, ax=axis1)\n",
    "fig2 = sns.countplot(x='SibSp', data = full_df, ax=axis2)\n",
    "plt.tight_layout()\n",
    "plt.show()"
   ]
  },
  {
   "cell_type": "code",
   "execution_count": 32,
   "metadata": {
    "ExecuteTime": {
     "end_time": "2017-10-08T01:35:25.231621Z",
     "start_time": "2017-10-08T01:35:24.819887Z"
    }
   },
   "outputs": [
    {
     "data": {
      "image/png": "[encoded data removed]",
      "text/plain": [
       "<matplotlib.figure.Figure at 0x235cc5ecc18>"
      ]
     },
     "metadata": {},
     "output_type": "display_data"
    },
    {
     "data": {
      "image/png": "[encoded data removed]",
      "text/plain": [
       "<matplotlib.figure.Figure at 0x235cc469cc0>"
      ]
     },
     "metadata": {},
     "output_type": "display_data"
    }
   ],
   "source": [
    "plot_categories(train_df , cat = 'Parch' , target = 'Survived')\n",
    "plot_categories(train_df , cat = 'SibSp' , target = 'Survived')\n",
    "plt.show()"
   ]
  },
  {
   "cell_type": "markdown",
   "metadata": {},
   "source": [
    "Furthermore, we are missing no data from either variable."
   ]
  },
  {
   "cell_type": "code",
   "execution_count": 33,
   "metadata": {
    "ExecuteTime": {
     "end_time": "2017-10-08T01:35:25.237319Z",
     "start_time": "2017-10-08T01:35:25.232921Z"
    }
   },
   "outputs": [
    {
     "name": "stdout",
     "output_type": "stream",
     "text": [
      "0\n"
     ]
    },
    {
     "data": {
      "text/plain": [
       "0"
      ]
     },
     "execution_count": 33,
     "metadata": {},
     "output_type": "execute_result"
    }
   ],
   "source": [
    "print (full_df.Parch.isnull().sum())\n",
    "full_df.SibSp.isnull().sum()"
   ]
  },
  {
   "cell_type": "markdown",
   "metadata": {},
   "source": [
    "To perform analytics, we choose to feature engineer such that we create a new binary variable on whether the passenger was alone (0) or not alone (1). "
   ]
  },
  {
   "cell_type": "code",
   "execution_count": 34,
   "metadata": {
    "ExecuteTime": {
     "end_time": "2017-10-08T01:35:25.383863Z",
     "start_time": "2017-10-08T01:35:25.238793Z"
    },
    "collapsed": true
   },
   "outputs": [],
   "source": [
    "family = pd.DataFrame()\n",
    "\n",
    "family['FamilySize'] = full_df.Parch + full_df.SibSp + 1"
   ]
  },
  {
   "cell_type": "code",
   "execution_count": 35,
   "metadata": {
    "ExecuteTime": {
     "end_time": "2017-10-08T01:35:25.542569Z",
     "start_time": "2017-10-08T01:35:25.385480Z"
    },
    "collapsed": true
   },
   "outputs": [],
   "source": [
    "#full_df['NotAlone'] = family.FamilySize.map (lambda fsize: 0 if fsize == 1 else 1).astype(int)\n",
    "full_df['FamilySize'] = family.FamilySize"
   ]
  },
  {
   "cell_type": "markdown",
   "metadata": {},
   "source": [
    "### Name"
   ]
  },
  {
   "cell_type": "markdown",
   "metadata": {},
   "source": [
    "Now we turn to the more complicated `Name` variable. These values will require some adjustments before they can be used for analytics. "
   ]
  },
  {
   "cell_type": "code",
   "execution_count": 36,
   "metadata": {
    "ExecuteTime": {
     "end_time": "2017-10-08T01:35:25.869566Z",
     "start_time": "2017-10-08T01:35:25.709824Z"
    }
   },
   "outputs": [
    {
     "data": {
      "text/plain": [
       "0                              Braund, Mr. Owen Harris\n",
       "1    Cumings, Mrs. John Bradley (Florence Briggs Th...\n",
       "2                               Heikkinen, Miss. Laina\n",
       "3         Futrelle, Mrs. Jacques Heath (Lily May Peel)\n",
       "4                             Allen, Mr. William Henry\n",
       "5                                     Moran, Mr. James\n",
       "6                              McCarthy, Mr. Timothy J\n",
       "7                       Palsson, Master. Gosta Leonard\n",
       "8    Johnson, Mrs. Oscar W (Elisabeth Vilhelmina Berg)\n",
       "9                  Nasser, Mrs. Nicholas (Adele Achem)\n",
       "Name: Name, dtype: object"
      ]
     },
     "execution_count": 36,
     "metadata": {},
     "output_type": "execute_result"
    }
   ],
   "source": [
    "full_df.Name.head(10)"
   ]
  },
  {
   "cell_type": "markdown",
   "metadata": {},
   "source": [
    "In looking at the dataset above, the first thing we might want to do is sort these entries by the person's title (e.g., Mr, Master, etc..). The entry format for the variable goes `Last Name, Title. First Name`. The code below extracts this information and puts it into a new column called `Title`."
   ]
  },
  {
   "cell_type": "code",
   "execution_count": 37,
   "metadata": {
    "ExecuteTime": {
     "end_time": "2017-10-08T01:35:26.020787Z",
     "start_time": "2017-10-08T01:35:25.870800Z"
    }
   },
   "outputs": [
    {
     "data": {
      "text/plain": [
       "array(['Mr', 'Mrs', 'Miss', 'Master', 'Don', 'Rev', 'Dr', 'Mme', 'Ms',\n",
       "       'Major', 'Lady', 'Sir', 'Mlle', 'Col', 'Capt', 'the Countess',\n",
       "       'Jonkheer', 'Dona'], dtype=object)"
      ]
     },
     "execution_count": 37,
     "metadata": {},
     "output_type": "execute_result"
    }
   ],
   "source": [
    "# we extract the title from each name: split along ',' and take the second. Then split along '.' and take the first. \n",
    "# Then strip() to remove whitespace\n",
    "full_df ['Title'] = full_df.Name.map( lambda name: name.split( ',' )[1].split( '.' )[0].strip() )\n",
    "\n",
    "# print unique titles\n",
    "full_df.Title.unique()"
   ]
  },
  {
   "cell_type": "markdown",
   "metadata": {},
   "source": [
    "Looking at the unique values outputted from our `Title` variable, we see that there are, broadly speaking, 4 repeated titles and many more with only a sporadic entry."
   ]
  },
  {
   "cell_type": "code",
   "execution_count": 38,
   "metadata": {
    "ExecuteTime": {
     "end_time": "2017-10-08T01:35:26.321446Z",
     "start_time": "2017-10-08T01:35:26.162503Z"
    }
   },
   "outputs": [
    {
     "data": {
      "text/plain": [
       "Mr              757\n",
       "Miss            260\n",
       "Mrs             197\n",
       "Master           61\n",
       "Rev               8\n",
       "Dr                8\n",
       "Col               4\n",
       "Mlle              2\n",
       "Ms                2\n",
       "Major             2\n",
       "Dona              1\n",
       "Mme               1\n",
       "Capt              1\n",
       "Sir               1\n",
       "the Countess      1\n",
       "Jonkheer          1\n",
       "Lady              1\n",
       "Don               1\n",
       "Name: Title, dtype: int64"
      ]
     },
     "execution_count": 38,
     "metadata": {},
     "output_type": "execute_result"
    }
   ],
   "source": [
    "full_df.Title.value_counts()"
   ]
  },
  {
   "cell_type": "markdown",
   "metadata": {},
   "source": [
    "To this end, we choose to feature engineer by replacing all but the 4 most repeated classes with a new variable `Rare` and then map each title to a unique number via a dictionary. "
   ]
  },
  {
   "cell_type": "code",
   "execution_count": 39,
   "metadata": {
    "ExecuteTime": {
     "end_time": "2017-10-08T01:35:26.482569Z",
     "start_time": "2017-10-08T01:35:26.322624Z"
    },
    "collapsed": true
   },
   "outputs": [],
   "source": [
    "full_df.Title = full_df.Title.replace (['Capt', 'Col', 'Major', 'Jonkheer', 'Don', 'Sir', 'Dr', \n",
    "                                        'Rev', 'the Countess', 'Dona', 'Lady'], 'Rare')\n",
    "\n",
    "full_df.Title = full_df.Title.replace ('Mme', 'Mrs')\n",
    "full_df.Title = full_df.Title.replace ('Mlle', 'Ms')\n",
    "full_df.Title = full_df.Title.replace ('Miss', 'Ms')"
   ]
  },
  {
   "cell_type": "code",
   "execution_count": 40,
   "metadata": {
    "ExecuteTime": {
     "end_time": "2017-10-08T01:35:26.638579Z",
     "start_time": "2017-10-08T01:35:26.484369Z"
    },
    "collapsed": true
   },
   "outputs": [],
   "source": [
    "# replace titles with numbers\n",
    "title_dict = {'Rare' : 1 , 'Mrs' : 2, 'Ms' : 3, 'Mr' : 4, 'Master': 5}\n",
    "full_df.Title = full_df.Title.map (title_dict).astype(int)"
   ]
  },
  {
   "cell_type": "markdown",
   "metadata": {},
   "source": [
    "And we can verify that everyone in our dataset was given a name and therefore we don't need to do data imputation."
   ]
  },
  {
   "cell_type": "code",
   "execution_count": 41,
   "metadata": {
    "ExecuteTime": {
     "end_time": "2017-10-08T01:35:26.161324Z",
     "start_time": "2017-10-08T01:35:26.021970Z"
    }
   },
   "outputs": [
    {
     "data": {
      "text/plain": [
       "0"
      ]
     },
     "execution_count": 41,
     "metadata": {},
     "output_type": "execute_result"
    }
   ],
   "source": [
    "full_df.Title.isnull().sum()"
   ]
  },
  {
   "cell_type": "markdown",
   "metadata": {},
   "source": [
    "### Fare"
   ]
  },
  {
   "cell_type": "code",
   "execution_count": 42,
   "metadata": {
    "ExecuteTime": {
     "end_time": "2017-10-08T01:35:27.115097Z",
     "start_time": "2017-10-08T01:35:26.808853Z"
    }
   },
   "outputs": [
    {
     "data": {
      "image/png": "[encoded data removed]",
      "text/plain": [
       "<matplotlib.figure.Figure at 0x235cc16b438>"
      ]
     },
     "metadata": {},
     "output_type": "display_data"
    }
   ],
   "source": [
    "sns.distplot(full_df.Fare.dropna(), hist=True)\n",
    "plt.show()"
   ]
  },
  {
   "cell_type": "code",
   "execution_count": 43,
   "metadata": {
    "ExecuteTime": {
     "end_time": "2017-10-08T01:35:27.301408Z",
     "start_time": "2017-10-08T01:35:27.116353Z"
    }
   },
   "outputs": [
    {
     "data": {
      "image/png": "[encoded data removed]",
      "text/plain": [
       "<matplotlib.figure.Figure at 0x235cc0c19b0>"
      ]
     },
     "metadata": {},
     "output_type": "display_data"
    }
   ],
   "source": [
    "plot_distribution (train_df, var = 'Fare' , target = 'Survived')\n",
    "plt.show()"
   ]
  },
  {
   "cell_type": "markdown",
   "metadata": {},
   "source": [
    "In our full dataset, we are missing a `Fare` variable for one passenger."
   ]
  },
  {
   "cell_type": "code",
   "execution_count": 44,
   "metadata": {
    "ExecuteTime": {
     "end_time": "2017-10-08T01:35:27.305783Z",
     "start_time": "2017-10-08T01:35:27.302650Z"
    }
   },
   "outputs": [
    {
     "data": {
      "text/plain": [
       "1"
      ]
     },
     "execution_count": 44,
     "metadata": {},
     "output_type": "execute_result"
    }
   ],
   "source": [
    "full_df.Fare.isnull().sum()"
   ]
  },
  {
   "cell_type": "markdown",
   "metadata": {},
   "source": [
    "Printing out the mean, mode, and median fares,"
   ]
  },
  {
   "cell_type": "code",
   "execution_count": 45,
   "metadata": {
    "ExecuteTime": {
     "end_time": "2017-10-08T01:35:27.434531Z",
     "start_time": "2017-10-08T01:35:27.306752Z"
    }
   },
   "outputs": [
    {
     "name": "stdout",
     "output_type": "stream",
     "text": [
      "Mean fare is 32.204208\n",
      "Mode fare is 8.050000\n",
      "Median fare is 14.454200\n"
     ]
    }
   ],
   "source": [
    "print ('Mean fare is %f' % train_df.Fare.mean())\n",
    "print ('Mode fare is %f' % train_df.Fare.mode()[0])\n",
    "print ('Median fare is %f' % train_df.Fare.median())"
   ]
  },
  {
   "cell_type": "markdown",
   "metadata": {},
   "source": [
    "and comparing to the histogram chart above, we arbitrarily choose toe replace the missing fare with the median value,"
   ]
  },
  {
   "cell_type": "code",
   "execution_count": 46,
   "metadata": {
    "ExecuteTime": {
     "end_time": "2017-10-08T01:35:27.576143Z",
     "start_time": "2017-10-08T01:35:27.435670Z"
    },
    "collapsed": true
   },
   "outputs": [],
   "source": [
    "full_df.Fare = full_df.Fare.fillna(train_df.Fare.median())"
   ]
  },
  {
   "cell_type": "code",
   "execution_count": 47,
   "metadata": {
    "ExecuteTime": {
     "end_time": "2017-10-08T01:35:28.172265Z",
     "start_time": "2017-10-08T01:35:27.577528Z"
    }
   },
   "outputs": [
    {
     "data": {
      "image/png": "[encoded data removed]",
      "text/plain": [
       "<matplotlib.figure.Figure at 0x235cc43b400>"
      ]
     },
     "metadata": {},
     "output_type": "display_data"
    }
   ],
   "source": [
    "plot_distribution (train_df, var= 'Fare', target = 'Survived', row = 'Pclass')\n",
    "plt.show()"
   ]
  },
  {
   "cell_type": "markdown",
   "metadata": {},
   "source": [
    "### Cabin and Ticket"
   ]
  },
  {
   "cell_type": "markdown",
   "metadata": {},
   "source": [
    "We do not choose to use either of these variables in training our model. We exclude `Cabin` due to the great amount of missing data and exclude `Ticket` due to lack of guidance in extracting useful information from the ticket string."
   ]
  },
  {
   "cell_type": "code",
   "execution_count": 48,
   "metadata": {},
   "outputs": [
    {
     "data": {
      "text/plain": [
       "0           A/5 21171\n",
       "1            PC 17599\n",
       "2    STON/O2. 3101282\n",
       "3              113803\n",
       "4              373450\n",
       "Name: Ticket, dtype: object"
      ]
     },
     "execution_count": 48,
     "metadata": {},
     "output_type": "execute_result"
    }
   ],
   "source": [
    "\n",
    "full_df.Ticket.head()"
   ]
  },
  {
   "cell_type": "code",
   "execution_count": 49,
   "metadata": {},
   "outputs": [],
   "source": [
    "test = pd.DataFrame()\n",
    "\n",
    "test['num'] = full_df.Ticket.map( lambda ticket: ticket.split( ' ' ))\n",
    "full_df['TickNum'] = test.num.map (lambda term: term[1] if len(term) == 2 else term[2] if len(term) == 3 else term[0])\n",
    "full_df['TickNum'] = full_df.TickNum.map (lambda term: -1 if term == 'LINE' else term)"
   ]
  },
  {
   "cell_type": "code",
   "execution_count": 50,
   "metadata": {},
   "outputs": [
    {
     "data": {
      "text/html": [
       "<div>\n",
       "<style>\n",
       "    .dataframe thead tr:only-child th {\n",
       "        text-align: right;\n",
       "    }\n",
       "\n",
       "    .dataframe thead th {\n",
       "        text-align: left;\n",
       "    }\n",
       "\n",
       "    .dataframe tbody tr th {\n",
       "        vertical-align: top;\n",
       "    }\n",
       "</style>\n",
       "<table border=\"1\" class=\"dataframe\">\n",
       "  <thead>\n",
       "    <tr style=\"text-align: right;\">\n",
       "      <th></th>\n",
       "      <th>Age</th>\n",
       "      <th>Cabin</th>\n",
       "      <th>Embarked</th>\n",
       "      <th>Fare</th>\n",
       "      <th>Name</th>\n",
       "      <th>Parch</th>\n",
       "      <th>PassengerId</th>\n",
       "      <th>Pclass</th>\n",
       "      <th>Sex</th>\n",
       "      <th>SibSp</th>\n",
       "      <th>Survived</th>\n",
       "      <th>Ticket</th>\n",
       "      <th>FamilySize</th>\n",
       "      <th>Title</th>\n",
       "      <th>TickNum</th>\n",
       "    </tr>\n",
       "  </thead>\n",
       "  <tbody>\n",
       "    <tr>\n",
       "      <th>179</th>\n",
       "      <td>36.0</td>\n",
       "      <td>NaN</td>\n",
       "      <td>1</td>\n",
       "      <td>0.0</td>\n",
       "      <td>Leonard, Mr. Lionel</td>\n",
       "      <td>0</td>\n",
       "      <td>180</td>\n",
       "      <td>3</td>\n",
       "      <td>0</td>\n",
       "      <td>0</td>\n",
       "      <td>0.0</td>\n",
       "      <td>LINE</td>\n",
       "      <td>1</td>\n",
       "      <td>4</td>\n",
       "      <td>-1</td>\n",
       "    </tr>\n",
       "    <tr>\n",
       "      <th>271</th>\n",
       "      <td>25.0</td>\n",
       "      <td>NaN</td>\n",
       "      <td>1</td>\n",
       "      <td>0.0</td>\n",
       "      <td>Tornquist, Mr. William Henry</td>\n",
       "      <td>0</td>\n",
       "      <td>272</td>\n",
       "      <td>3</td>\n",
       "      <td>0</td>\n",
       "      <td>0</td>\n",
       "      <td>1.0</td>\n",
       "      <td>LINE</td>\n",
       "      <td>1</td>\n",
       "      <td>4</td>\n",
       "      <td>-1</td>\n",
       "    </tr>\n",
       "    <tr>\n",
       "      <th>302</th>\n",
       "      <td>19.0</td>\n",
       "      <td>NaN</td>\n",
       "      <td>1</td>\n",
       "      <td>0.0</td>\n",
       "      <td>Johnson, Mr. William Cahoone Jr</td>\n",
       "      <td>0</td>\n",
       "      <td>303</td>\n",
       "      <td>3</td>\n",
       "      <td>0</td>\n",
       "      <td>0</td>\n",
       "      <td>0.0</td>\n",
       "      <td>LINE</td>\n",
       "      <td>1</td>\n",
       "      <td>4</td>\n",
       "      <td>-1</td>\n",
       "    </tr>\n",
       "    <tr>\n",
       "      <th>597</th>\n",
       "      <td>49.0</td>\n",
       "      <td>NaN</td>\n",
       "      <td>1</td>\n",
       "      <td>0.0</td>\n",
       "      <td>Johnson, Mr. Alfred</td>\n",
       "      <td>0</td>\n",
       "      <td>598</td>\n",
       "      <td>3</td>\n",
       "      <td>0</td>\n",
       "      <td>0</td>\n",
       "      <td>0.0</td>\n",
       "      <td>LINE</td>\n",
       "      <td>1</td>\n",
       "      <td>4</td>\n",
       "      <td>-1</td>\n",
       "    </tr>\n",
       "  </tbody>\n",
       "</table>\n",
       "</div>"
      ],
      "text/plain": [
       "      Age Cabin  Embarked  Fare                             Name  Parch  \\\n",
       "179  36.0   NaN         1   0.0              Leonard, Mr. Lionel      0   \n",
       "271  25.0   NaN         1   0.0     Tornquist, Mr. William Henry      0   \n",
       "302  19.0   NaN         1   0.0  Johnson, Mr. William Cahoone Jr      0   \n",
       "597  49.0   NaN         1   0.0              Johnson, Mr. Alfred      0   \n",
       "\n",
       "     PassengerId  Pclass  Sex  SibSp  Survived Ticket  FamilySize  Title  \\\n",
       "179          180       3    0      0       0.0   LINE           1      4   \n",
       "271          272       3    0      0       1.0   LINE           1      4   \n",
       "302          303       3    0      0       0.0   LINE           1      4   \n",
       "597          598       3    0      0       0.0   LINE           1      4   \n",
       "\n",
       "    TickNum  \n",
       "179      -1  \n",
       "271      -1  \n",
       "302      -1  \n",
       "597      -1  "
      ]
     },
     "execution_count": 50,
     "metadata": {},
     "output_type": "execute_result"
    }
   ],
   "source": [
    "full_df[full_df.Ticket.str.contains('LINE') ]"
   ]
  },
  {
   "cell_type": "code",
   "execution_count": 51,
   "metadata": {},
   "outputs": [
    {
     "data": {
      "text/plain": [
       "0       21171\n",
       "1       17599\n",
       "2     3101282\n",
       "3      113803\n",
       "4      373450\n",
       "5      330877\n",
       "6       17463\n",
       "7      349909\n",
       "8      347742\n",
       "9      237736\n",
       "10       9549\n",
       "11     113783\n",
       "12       2151\n",
       "13     347082\n",
       "14     350406\n",
       "15     248706\n",
       "16     382652\n",
       "17     244373\n",
       "18     345763\n",
       "19       2649\n",
       "20     239865\n",
       "21     248698\n",
       "22     330923\n",
       "23     113788\n",
       "24     349909\n",
       "25     347077\n",
       "26       2631\n",
       "27      19950\n",
       "28     330959\n",
       "29     349216\n",
       "Name: TickNum, dtype: object"
      ]
     },
     "execution_count": 51,
     "metadata": {},
     "output_type": "execute_result"
    }
   ],
   "source": [
    "    full_df.TickNum.head(30)"
   ]
  },
  {
   "cell_type": "markdown",
   "metadata": {},
   "source": [
    "## Dropping Elements"
   ]
  },
  {
   "cell_type": "markdown",
   "metadata": {},
   "source": [
    "Now that feature engineering is done, we can drop columns from our dataframe that we don't plan to use in analysis. Note that this will also include data columns that we used to construct new features (e.g., `Name`). This is then bundled into a new dataframe called `engineered_df`."
   ]
  },
  {
   "cell_type": "code",
   "execution_count": 52,
   "metadata": {
    "ExecuteTime": {
     "end_time": "2017-10-08T01:35:28.177202Z",
     "start_time": "2017-10-08T01:35:28.173469Z"
    },
    "collapsed": true
   },
   "outputs": [],
   "source": [
    "drop_elements = ['Cabin', 'Name', 'PassengerId', 'Ticket', 'Parch', 'SibSp']\n",
    "\n",
    "engineered_df = full_df.drop (drop_elements, axis = 1)"
   ]
  },
  {
   "cell_type": "markdown",
   "metadata": {},
   "source": [
    "The new dataframe holds the features we want to use and has all entries"
   ]
  },
  {
   "cell_type": "code",
   "execution_count": 53,
   "metadata": {
    "ExecuteTime": {
     "end_time": "2017-10-08T01:35:28.354958Z",
     "start_time": "2017-10-08T01:35:28.178260Z"
    },
    "scrolled": true
   },
   "outputs": [
    {
     "name": "stdout",
     "output_type": "stream",
     "text": [
      "<class 'pandas.core.frame.DataFrame'>\n",
      "RangeIndex: 1309 entries, 0 to 1308\n",
      "Data columns (total 9 columns):\n",
      "Age           1309 non-null float64\n",
      "Embarked      1309 non-null int32\n",
      "Fare          1309 non-null float64\n",
      "Pclass        1309 non-null int64\n",
      "Sex           1309 non-null int32\n",
      "Survived      891 non-null float64\n",
      "FamilySize    1309 non-null int64\n",
      "Title         1309 non-null int32\n",
      "TickNum       1309 non-null object\n",
      "dtypes: float64(3), int32(3), int64(2), object(1)\n",
      "memory usage: 76.8+ KB\n"
     ]
    }
   ],
   "source": [
    "engineered_df.info()"
   ]
  },
  {
   "cell_type": "markdown",
   "metadata": {},
   "source": [
    "## Model Building"
   ]
  },
  {
   "cell_type": "markdown",
   "metadata": {},
   "source": [
    "Now we want to go about training a method to accurately model our data. Of course we don't want the method to just *fit* our data, we also want it to *generalize* to the test data as well!"
   ]
  },
  {
   "cell_type": "markdown",
   "metadata": {},
   "source": [
    "### Quick Correlations\n",
    "<a id=\"analysis_qc\"></a>"
   ]
  },
  {
   "cell_type": "markdown",
   "metadata": {},
   "source": [
    "Let's perform a quick correlation plot to see which our of engineered features are most correlated with `Survival` in the training set:"
   ]
  },
  {
   "cell_type": "code",
   "execution_count": 54,
   "metadata": {
    "ExecuteTime": {
     "end_time": "2017-10-08T01:35:28.603976Z",
     "start_time": "2017-10-08T01:35:28.356450Z"
    }
   },
   "outputs": [
    {
     "data": {
      "image/png": "[encoded data removed]",
      "text/plain": [
       "<matplotlib.figure.Figure at 0x235cc4690b8>"
      ]
     },
     "metadata": {},
     "output_type": "display_data"
    }
   ],
   "source": [
    "plot_correlation_map (engineered_df.loc[0:890])\n",
    "plt.show()"
   ]
  },
  {
   "cell_type": "markdown",
   "metadata": {},
   "source": [
    "###  Validation from Training Data"
   ]
  },
  {
   "cell_type": "markdown",
   "metadata": {},
   "source": [
    "Before applying a model to the problem of predicting survival of a passenger in the test dataset, we first want some idea of how well a given model is working. To this end, we can get a feel for this by splitting the training data into two sets: one for model training and another for model validation. The idea will be to fit the model to the sub-training dataset and then test it on the sub-validation dataset where the survival answer is already known. In doing this, we want to be wary of methods where the fit score is drastically different compared to the validation score. This is evidence that the chosen model is overfitting and will not generalize. Note that the `.loc` command which acts on dataframes is *inclusive* in both variables (c.f., normal slicing in python)."
   ]
  },
  {
   "cell_type": "code",
   "execution_count": 55,
   "metadata": {
    "collapsed": true
   },
   "outputs": [],
   "source": [
    "# create subtraining data from training dataset\n",
    "subtrain_x = engineered_df.loc[0:800]\n",
    "subtrain_x = subtrain_x.drop('Survived', axis=1)\n",
    "\n",
    "# known surival rate for subtraining data\n",
    "subtrain_y = engineered_df.Survived.loc[0:800]\n",
    "\n",
    "# create subvalidation data from datatraining set\n",
    "subvalid_x = engineered_df.loc[801:890]\n",
    "subvalid_x = subvalid_x.drop('Survived', axis=1)\n",
    "\n",
    "# known survival for subvalidation data\n",
    "subvalid_y = engineered_df.Survived.loc[801:890]"
   ]
  },
  {
   "cell_type": "markdown",
   "metadata": {},
   "source": [
    "For the purposes of this notebook, these different classification algorithms can be treated as blackboxes. However these methods should be understood if they are used in the future! "
   ]
  },
  {
   "cell_type": "markdown",
   "metadata": {},
   "source": [
    "### Logistic Regression"
   ]
  },
  {
   "cell_type": "code",
   "execution_count": 56,
   "metadata": {
    "ExecuteTime": {
     "end_time": "2017-10-08T01:35:28.618384Z",
     "start_time": "2017-10-08T01:35:19.335Z"
    }
   },
   "outputs": [
    {
     "name": "stdout",
     "output_type": "stream",
     "text": [
      "Fit score is 0.676654\n",
      "Validation score is 0.666667\n"
     ]
    }
   ],
   "source": [
    "model = LogisticRegression()\n",
    "model.fit( subtrain_x , subtrain_y )\n",
    "print(\"Fit score is %f\" % model.score( subtrain_x , subtrain_y ))\n",
    "print(\"Validation score is %f\" % model.score( subvalid_x, subvalid_y))"
   ]
  },
  {
   "cell_type": "markdown",
   "metadata": {},
   "source": [
    "### Random Forest"
   ]
  },
  {
   "cell_type": "code",
   "execution_count": 57,
   "metadata": {
    "ExecuteTime": {
     "end_time": "2017-10-08T01:35:28.619427Z",
     "start_time": "2017-10-08T01:35:19.338Z"
    }
   },
   "outputs": [
    {
     "data": {
      "image/png": "[encoded data removed]",
      "text/plain": [
       "<matplotlib.figure.Figure at 0x235cc6d6ef0>"
      ]
     },
     "metadata": {},
     "output_type": "display_data"
    }
   ],
   "source": [
    "#model = RandomForestClassifier (n_estimators=100)\n",
    "#model.fit( train_X , train_y )\n",
    "#print (model.score( train_X , train_y ))# , model.score( valid_X , valid_y ))\n",
    "\n",
    "RF_results = pd.DataFrame(columns=['estimators','training_score','validation_score'], index=range(0,149))\n",
    "\n",
    "for estimators in range (1,150):\n",
    "    model = RandomForestClassifier (n_estimators = estimators)\n",
    "    model.fit( subtrain_x , subtrain_y )\n",
    "    RF_results.loc[estimators-1, 'estimators'] = estimators\n",
    "    RF_results.loc[estimators-1, 'training_score'] = model.score( subtrain_x , subtrain_y )\n",
    "    RF_results.loc[estimators-1, 'validation_score'] = model.score( subvalid_x, subvalid_y)\n",
    "    \n",
    "plt.scatter(RF_results.estimators, RF_results.training_score, s=40)\n",
    "plt.scatter(RF_results.estimators, RF_results.validation_score, s=40, marker='D', c='green')\n",
    "\n",
    "# print best fit result for lowest number of estimators\n",
    "#print (\"Best Random Forest Result %f. First acheived with %f estimators\" % (RF_results.training_score.max() , #RF_results.sore.idxmax()+1))\n",
    "plt.legend()\n",
    "plt.show()"
   ]
  },
  {
   "cell_type": "markdown",
   "metadata": {},
   "source": [
    "### Support Vector Machines"
   ]
  },
  {
   "cell_type": "code",
   "execution_count": 58,
   "metadata": {
    "ExecuteTime": {
     "end_time": "2017-10-08T01:35:28.620520Z",
     "start_time": "2017-10-08T01:35:19.341Z"
    }
   },
   "outputs": [
    {
     "name": "stdout",
     "output_type": "stream",
     "text": [
      "Fit score is 0.997503\n",
      "Validation score is 0.633333\n"
     ]
    }
   ],
   "source": [
    "model = SVC()\n",
    "model.fit( subtrain_x , subtrain_y )\n",
    "print(\"Fit score is %f\" % model.score( subtrain_x , subtrain_y ))\n",
    "print(\"Validation score is %f\" % model.score( subvalid_x, subvalid_y))"
   ]
  },
  {
   "cell_type": "markdown",
   "metadata": {},
   "source": [
    "### Gradient Boosting Classifier"
   ]
  },
  {
   "cell_type": "code",
   "execution_count": 59,
   "metadata": {
    "ExecuteTime": {
     "end_time": "2017-10-08T01:35:28.621507Z",
     "start_time": "2017-10-08T01:35:19.344Z"
    }
   },
   "outputs": [
    {
     "name": "stdout",
     "output_type": "stream",
     "text": [
      "Fit score is 0.913858\n",
      "Validation score is 0.877778\n"
     ]
    }
   ],
   "source": [
    "model = GradientBoostingClassifier()\n",
    "model.fit( subtrain_x , subtrain_y )\n",
    "print(\"Fit score is %f\" % model.score( subtrain_x , subtrain_y ))\n",
    "print(\"Validation score is %f\" % model.score( subvalid_x, subvalid_y))"
   ]
  },
  {
   "cell_type": "markdown",
   "metadata": {},
   "source": [
    "### K-nearest Neighbors"
   ]
  },
  {
   "cell_type": "code",
   "execution_count": 60,
   "metadata": {
    "collapsed": true
   },
   "outputs": [],
   "source": [
    "KNN_results = pd.DataFrame(columns=['dots','training_score','validation_score'], index=range(0,10))"
   ]
  },
  {
   "cell_type": "code",
   "execution_count": 61,
   "metadata": {
    "ExecuteTime": {
     "end_time": "2017-10-08T01:35:28.622528Z",
     "start_time": "2017-10-08T01:35:19.347Z"
    }
   },
   "outputs": [
    {
     "data": {
      "image/png": "[encoded data removed]",
      "text/plain": [
       "<matplotlib.figure.Figure at 0x235cc6f3f28>"
      ]
     },
     "metadata": {},
     "output_type": "display_data"
    }
   ],
   "source": [
    "for dots in range (1,11):\n",
    "    model = KNeighborsClassifier(n_neighbors=dots)\n",
    "    model.fit( subtrain_x , subtrain_y )\n",
    "    KNN_results.loc[dots-1, 'dots'] = dots\n",
    "    KNN_results.loc[dots-1, 'training_score'] = model.score( subtrain_x , subtrain_y )\n",
    "    KNN_results.loc[dots-1, 'validation_score'] = model.score (subvalid_x, subvalid_y)\n",
    "    \n",
    "plt.scatter(KNN_results.dots, KNN_results.training_score, s=40)\n",
    "plt.scatter(KNN_results.dots, KNN_results.validation_score, s=40, marker='D', c='green')\n",
    "#print (\"Best KNN Result %f with %f neighbors\" % (KNN_results.score.max() , KNN_results.score.idxmax()+1))\n",
    "plt.legend()\n",
    "plt.show()"
   ]
  },
  {
   "cell_type": "markdown",
   "metadata": {},
   "source": [
    "### Gaussian Naive Bayes"
   ]
  },
  {
   "cell_type": "code",
   "execution_count": 62,
   "metadata": {
    "ExecuteTime": {
     "end_time": "2017-10-08T01:35:28.623549Z",
     "start_time": "2017-10-08T01:35:19.350Z"
    }
   },
   "outputs": [
    {
     "name": "stdout",
     "output_type": "stream",
     "text": [
      "Fit score is 0.661673\n",
      "Validation score is 0.700000\n"
     ]
    }
   ],
   "source": [
    "model = GaussianNB()\n",
    "model.fit( subtrain_x , subtrain_y )\n",
    "print(\"Fit score is %f\" % model.score( subtrain_x , subtrain_y ))\n",
    "print(\"Validation score is %f\" % model.score( subvalid_x, subvalid_y))"
   ]
  },
  {
   "cell_type": "markdown",
   "metadata": {},
   "source": [
    "## Model Selection,Training, and Prediction"
   ]
  },
  {
   "cell_type": "markdown",
   "metadata": {},
   "source": [
    "Now we've tested a whole bunch of different methods on our sub-training dataset and assessed it with our sub-validation dataset. Model selection itself is an involved process with it's own theorems and algorithms, but here we'll be crude and just go off the fit and validation scores. Fit and validation scores which are very different from another suggest that our algorithm is overfitting so we'll want to avoid those. At the same time, we want the highest possible score. Glancing through the scores for the different methods, it looks like Gradient Boosting Classifier is the winner. The fit/validation scores are not too disparate (high 80s vs. mid 80s) and the scores are quite high. As such, we now use the full set of training data to fit the model,  "
   ]
  },
  {
   "cell_type": "code",
   "execution_count": 63,
   "metadata": {
    "ExecuteTime": {
     "end_time": "2017-10-08T01:35:28.615198Z",
     "start_time": "2017-10-08T01:35:19.327Z"
    }
   },
   "outputs": [
    {
     "name": "stdout",
     "output_type": "stream",
     "text": [
      "Training Fit score is 0.909091\n"
     ]
    }
   ],
   "source": [
    "# full training data\n",
    "train_x = engineered_df.loc[0:890]\n",
    "train_x = train_x.drop('Survived', axis=1)\n",
    "\n",
    "# full training survival rate\n",
    "train_y = train_df.Survived.loc[:]\n",
    "\n",
    "# passengers whose survival we want to predict\n",
    "valid_x = engineered_df.loc[891:]\n",
    "valid_x = valid_x.drop('Survived', axis=1)\n",
    "\n",
    "\n",
    "model = GradientBoostingClassifier()\n",
    "model.fit( train_x , train_y )\n",
    "print(\"Training Fit score is %f\" % model.score( train_x , train_y ))"
   ]
  },
  {
   "cell_type": "markdown",
   "metadata": {},
   "source": [
    "And we go about making a prediction (`test_y`) for the unknown passenger data (`valid_x`). We verify that this has the right shape and column format, and then output it to a csv file and upload it to kaggle."
   ]
  },
  {
   "cell_type": "code",
   "execution_count": 64,
   "metadata": {},
   "outputs": [
    {
     "name": "stdout",
     "output_type": "stream",
     "text": [
      "(418, 2)\n",
      "     PassengerId  Survived\n",
      "891          892         0\n",
      "892          893         1\n",
      "893          894         0\n",
      "894          895         0\n",
      "895          896         1\n"
     ]
    }
   ],
   "source": [
    "passenger_id = full_df.PassengerId[891:]\n",
    "\n",
    "test_y = model.predict (valid_x)\n",
    "output = pd.DataFrame ({'PassengerId': passenger_id, 'Survived' : test_y})\n",
    "print(output.shape) ; print(output.head()) ; output.to_csv('predictions_titanic.csv', index=False)"
   ]
  },
  {
   "cell_type": "markdown",
   "metadata": {},
   "source": [
    "After uploading, we see that the score for this model is 0.76555. This is better than random guessing (score $\\approx$ 0.5) but a little low compared to our validation and training scores. As such there is definitely room for improvement and refinement."
   ]
  },
  {
   "cell_type": "markdown",
   "metadata": {},
   "source": [
    "## Data Output"
   ]
  },
  {
   "cell_type": "markdown",
   "metadata": {},
   "source": [
    "# Appendix\n",
    "<a id=\"appendix\"></a>"
   ]
  },
  {
   "cell_type": "code",
   "execution_count": 65,
   "metadata": {
    "ExecuteTime": {
     "end_time": "2017-10-08T01:35:28.617362Z",
     "start_time": "2017-10-08T01:35:19.333Z"
    }
   },
   "outputs": [
    {
     "name": "stdout",
     "output_type": "stream",
     "text": [
      "1.0\n"
     ]
    },
    {
     "data": {
      "image/png": "[encoded data removed]",
      "text/plain": [
       "<matplotlib.figure.Figure at 0x235cc2594a8>"
      ]
     },
     "metadata": {},
     "output_type": "display_data"
    }
   ],
   "source": [
    "def plot_variable_importance( X , y ):\n",
    "    tree = DecisionTreeClassifier( random_state = 99 )\n",
    "    tree.fit( X , y )\n",
    "    plot_model_var_imp( tree , X , y )\n",
    "    \n",
    "def plot_model_var_imp( model , X , y ):\n",
    "    imp = pd.DataFrame( \n",
    "        model.feature_importances_  , \n",
    "        columns = [ 'Importance' ] , \n",
    "        index = X.columns \n",
    "    )\n",
    "    imp = imp.sort_values( [ 'Importance' ] , ascending = True )\n",
    "    imp[ : 10 ].plot( kind = 'barh' )\n",
    "    print (model.score( X , y ))\n",
    "\n",
    "plot_variable_importance(train_x, train_y)\n",
    "plt.show()"
   ]
  },
  {
   "cell_type": "markdown",
   "metadata": {},
   "source": [
    "## Types of Variables\n",
    "<a id=\"app_vartypes\"></a>"
   ]
  },
  {
   "cell_type": "markdown",
   "metadata": {},
   "source": [
    "### Categorical Variables\n",
    "<a id=\"app_categorical\"></a>"
   ]
  },
  {
   "cell_type": "markdown",
   "metadata": {},
   "source": [
    "Categorical variables are *qualitative* and take on only a limited number of values. There are 3 types, nominal, ordinal, and interval:\n",
    "\n",
    "* A **nominal variable** (sometimes called a **categorical variable**) is one that has two or more categories, but there is no intrinsic ordering to the categories, e.g., gender, hair color\n",
    "<br><br>\n",
    "* An **ordinal variable** is a type of categorical variable but one for which a clear ordering exists, e.g., education level (elementary, high school, college, graduate)\n",
    "<br><br>\n",
    "* An **interval variable** is similar to an ordinal variable but is defined on intervals that are equally spaced, e.g., whether someone is in the \\$20,000-\\$30,000, \\$30,000-\\$40,000, or \\$40,000-\\$50,000 income bracket"
   ]
  },
  {
   "cell_type": "markdown",
   "metadata": {},
   "source": [
    "### Numerical Variables\n",
    "<a id=\"app_numerical\"></a>"
   ]
  },
  {
   "cell_type": "markdown",
   "metadata": {},
   "source": [
    "Numerical variables are *quantitative* and have numbers as their values. There are 2 types, continuous and discrete:\n",
    "\n",
    "* A **continuous variable** can take on any value in some range, e.g., the height of a person\n",
    "<br><br>\n",
    "* A **discrete variable** can only take on a specific number, e.g., how many siblings does a person have"
   ]
  },
  {
   "cell_type": "markdown",
   "metadata": {},
   "source": [
    "## Resources\n",
    "<a id='resources'></a>"
   ]
  },
  {
   "cell_type": "markdown",
   "metadata": {},
   "source": [
    "[Megan Risdal's Notebook in R](https://www.kaggle.com/mrisdal/exploring-survival-on-the-titanic)\n",
    "\n",
    "[Helge Bjorland's Notebook](https://www.kaggle.com/helgejo/an-interactive-data-science-tutorial)\n",
    "\n",
    "[Manav Sehgal's Notebook](https://www.kaggle.com/startupsci/titanic-data-science-solutions)\n",
    "\n",
    "[Omar El Gabry's Notebook](https://www.kaggle.com/omarelgabry/a-journey-through-titanic)\n",
    "\n",
    "[Arthur Tok's Notebook](https://www.kaggle.com/arthurtok/introduction-to-ensembling-stacking-in-python)\n",
    "\n",
    "[Sina's Notebook](https://www.kaggle.com/sinakhorami/titanic-best-working-classifier)\n",
    "\n",
    "[IBM Markdown Cheatsheet](http://datascience.ibm.com/blog/markdown-for-jupyter-notebooks-cheatsheet/)\n",
    "\n",
    "[Another Markdown Cheatsheet](https://github.com/adam-p/markdown-here/wiki/Markdown-Here-Cheatsheet)\n",
    "\n",
    "[Discussion on categorical variables](https://stats.idre.ucla.edu/other/mult-pkg/whatstat/what-is-the-difference-between-categorical-ordinal-and-interval-variables/)"
   ]
  }
 ],
 "metadata": {
  "celltoolbar": "Raw Cell Format",
  "kernelspec": {
   "display_name": "Python 3",
   "language": "python",
   "name": "python3"
  },
  "language_info": {
   "codemirror_mode": {
    "name": "ipython",
    "version": 3
   },
   "file_extension": ".py",
   "mimetype": "text/x-python",
   "name": "python",
   "nbconvert_exporter": "python",
   "pygments_lexer": "ipython3",
   "version": "3.6.2"
  },
  "toc": {
   "nav_menu": {},
   "number_sections": true,
   "sideBar": true,
   "skip_h1_title": false,
   "toc_cell": true,
   "toc_position": {},
   "toc_section_display": "none",
   "toc_window_display": false
  },
  "varInspector": {
   "cols": {
    "lenName": 16,
    "lenType": 16,
    "lenVar": 40
   },
   "kernels_config": {
    "python": {
     "delete_cmd_postfix": "",
     "delete_cmd_prefix": "del ",
     "library": "var_list.py",
     "varRefreshCmd": "print(var_dic_list())"
    },
    "r": {
     "delete_cmd_postfix": ") ",
     "delete_cmd_prefix": "rm(",
     "library": "var_list.r",
     "varRefreshCmd": "cat(var_dic_list()) "
    }
   },
   "types_to_exclude": [
    "module",
    "function",
    "builtin_function_or_method",
    "instance",
    "_Feature"
   ],
   "window_display": false
  }
 },
 "nbformat": 4,
 "nbformat_minor": 2
}
